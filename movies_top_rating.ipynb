{
 "cells": [
  {
   "cell_type": "markdown",
   "id": "f07b8ce5",
   "metadata": {},
   "source": [
    "# 📚 Importing Libraries  \n",
    "\n",
    "Before diving into data analysis, let’s bring in the power of Python libraries 🐍✨  \n",
    "\n",
    "```python\n",
    "# 🔧 Data Handling\n",
    "import pandas as pd\n",
    "import numpy as np\n",
    "\n",
    "# 📊 Visualization\n",
    "import matplotlib.pyplot as plt\n",
    "import seaborn as sns\n",
    "import plotly.express as px\n",
    "\n",
    "# 🎨 Set Styles\n",
    "sns.set(style=\"whitegrid\")\n",
    "plt.rcParams[\"figure.figsize\"] = (10, 6)\n"
   ]
  },
  {
   "cell_type": "code",
   "execution_count": 1,
   "id": "b2d10017",
   "metadata": {},
   "outputs": [],
   "source": [
    "import pandas as pd\n",
    "import numpy as np\n",
    "import matplotlib.pyplot as plt\n",
    "import seaborn as sns\n",
    "import plotly.express as px"
   ]
  },
  {
   "cell_type": "markdown",
   "id": "2971e5a6",
   "metadata": {},
   "source": [
    "# 🎬 Top Rated Movies Dataset Upload Guide  \n",
    "\n",
    "Want to add your dataset? Follow these simple steps and bring the magic of movies into this repo! 🍿  \n",
    "\n",
    "---\n",
    "\n",
    "## 📁 Step 1: Place Your Dataset  \n",
    "Copy your dataset (e.g., `movie_dataset.csv`) into this project folder:  \n",
    "\n"
   ]
  },
  {
   "cell_type": "code",
   "execution_count": 2,
   "id": "11512b58",
   "metadata": {},
   "outputs": [],
   "source": [
    "df = pd.read_csv('imdb-top-rated-movies-user-rated.csv')"
   ]
  },
  {
   "cell_type": "code",
   "execution_count": null,
   "id": "20d10e1a",
   "metadata": {},
   "outputs": [],
   "source": []
  }
 ],
 "metadata": {
  "kernelspec": {
   "display_name": "python_eda",
   "language": "python",
   "name": "python3"
  },
  "language_info": {
   "codemirror_mode": {
    "name": "ipython",
    "version": 3
   },
   "file_extension": ".py",
   "mimetype": "text/x-python",
   "name": "python",
   "nbconvert_exporter": "python",
   "pygments_lexer": "ipython3",
   "version": "3.13.5"
  }
 },
 "nbformat": 4,
 "nbformat_minor": 5
}
